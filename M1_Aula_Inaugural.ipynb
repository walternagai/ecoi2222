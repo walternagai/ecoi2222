{
  "nbformat": 4,
  "nbformat_minor": 0,
  "metadata": {
    "colab": {
      "provenance": [],
      "authorship_tag": "ABX9TyOJrmCA+EC30UEtIUdVzmXQ"
    },
    "kernelspec": {
      "name": "python3",
      "display_name": "Python 3"
    },
    "language_info": {
      "name": "python"
    }
  },
  "cells": [
    {
      "cell_type": "markdown",
      "source": [
        "# Sobre a disciplina..."
      ],
      "metadata": {
        "id": "disTw3VW4iAB"
      }
    },
    {
      "cell_type": "markdown",
      "source": [
        "## Identificação\n",
        "\n",
        "## Ementa\n",
        "\n",
        "## Conteúdo programático\n",
        "\n",
        "## Bibliografias\n",
        "\n",
        "### Básicas\n",
        "\n",
        "### Complementares"
      ],
      "metadata": {
        "id": "YrsfTvrn4pE1"
      }
    },
    {
      "cell_type": "markdown",
      "source": [
        "# Sobre mim..."
      ],
      "metadata": {
        "id": "JAIexY3w4SqK"
      }
    }
  ]
}