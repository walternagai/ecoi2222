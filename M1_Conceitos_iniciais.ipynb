{
  "nbformat": 4,
  "nbformat_minor": 0,
  "metadata": {
    "colab": {
      "provenance": [],
      "toc_visible": true,
      "authorship_tag": "ABX9TyPWHiCZsy0ulJAhV0GocYub"
    },
    "kernelspec": {
      "name": "python3",
      "display_name": "Python 3"
    },
    "language_info": {
      "name": "python"
    }
  },
  "cells": [
    {
      "cell_type": "markdown",
      "source": [
        "# Aspectos básicos da Computação"
      ],
      "metadata": {
        "id": "UtfGuxHNxr_2"
      }
    },
    {
      "cell_type": "markdown",
      "source": [
        "## Máquina Diferencial de Babbage"
      ],
      "metadata": {
        "id": "SytqXsT6xzG1"
      }
    },
    {
      "cell_type": "markdown",
      "source": [
        "## Máquina de Turing"
      ],
      "metadata": {
        "id": "N72It_lZx_0Q"
      }
    },
    {
      "cell_type": "markdown",
      "source": [
        "## Máquina de Von-Neumann"
      ],
      "metadata": {
        "id": "BhTPS02SyCz-"
      }
    },
    {
      "cell_type": "markdown",
      "source": [
        "## *Mother of all demos*"
      ],
      "metadata": {
        "id": "pUZtfvO-yMSs"
      }
    },
    {
      "cell_type": "markdown",
      "source": [
        "## *Xerox interface*"
      ],
      "metadata": {
        "id": "6mk1FgRUyYM5"
      }
    },
    {
      "cell_type": "markdown",
      "source": [
        "## Evolução dos computadores"
      ],
      "metadata": {
        "id": "zFHauH8fyhVD"
      }
    },
    {
      "cell_type": "markdown",
      "source": [
        "## Lei de Moore"
      ],
      "metadata": {
        "id": "bAwkpcwfyn3k"
      }
    },
    {
      "cell_type": "markdown",
      "source": [
        "## Evolução das linguagens de programação"
      ],
      "metadata": {
        "id": "uqE4yUFxy0_H"
      }
    },
    {
      "cell_type": "markdown",
      "source": [
        "## Sistemas de Computação"
      ],
      "metadata": {
        "id": "efxJOP6_y7ii"
      }
    },
    {
      "cell_type": "markdown",
      "source": [
        "## Compilador/Interpretador"
      ],
      "metadata": {
        "id": "RdqV782CzBjW"
      }
    },
    {
      "cell_type": "markdown",
      "source": [
        "# Python"
      ],
      "metadata": {
        "id": "mxpi2CZc1K_D"
      }
    },
    {
      "cell_type": "markdown",
      "source": [
        "# Google Colab"
      ],
      "metadata": {
        "id": "dsORbdTXzI85"
      }
    },
    {
      "cell_type": "markdown",
      "source": [
        "# Replit"
      ],
      "metadata": {
        "id": "SEqwDSKvzM2B"
      }
    }
  ]
}